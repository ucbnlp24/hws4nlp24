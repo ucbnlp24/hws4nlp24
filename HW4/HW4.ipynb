{
  "cells": [
    {
      "cell_type": "markdown",
      "metadata": {},
      "source": [
        "<a href=\"https://colab.research.google.com/github/ucbnlp24/hws4nlp24/blob/main/HW4/HW4.ipynb\" target=\"_parent\"><img src=\"https://colab.research.google.com/assets/colab-badge.svg\" alt=\"Open In Colab\"/></a>"
      ]
    },
    {
      "cell_type": "markdown",
      "metadata": {
        "id": "mb4Yr8KhRhbe"
      },
      "source": [
        "# Homework 4: Large Language Models & Prompting\n",
        "\n",
        "### Due Date: March 8th, 2024 (11:59pm)\n",
        "\n",
        "## Total Points: 100 points\n",
        "- *Warning*: Start this assignment early as it is dependent on the OpenAI API!\n",
        "- **Overview**: In this assignment, we will examine some of the latest language models you may be familiar with like GPT-3. We'll cover:\n",
        "\n",
        "  - Zero-shot prompting\n",
        "  - Prompt engineering\n",
        "  - Few-shot prompting\n",
        "  - Prompting instruction-tuned models\n",
        "  - Chain-of-Thought Reasoning prompting\n",
        "\n",
        "- **OpenAI Account Setup**: You will need an OpenAI account and API key, you can [sign up here](https://platform.openai.com/signup?launch) (click on `API`) and learn [how to make an API key here](https://help.openai.com/en/articles/4936850-where-do-i-find-my-secret-api-key). The OpenAI API is paid, however,  this homework will stay well under the free $5 credit given to each account. Be careful not to exhaust your free OpenAI credits while testing, you can check [on this page here](https://platform.openai.com/account/usage). To avoid exhausting your credits quickly, avoid running cells over and over again after you've completed an exercise.\n",
        "\n",
        "- **Grading**: To complete the homework assignment, you should implement anything marked with `#TODO`\n",
        "  - **NOTE #1**: For this assignment you will be creating your own unit tests for the prompts you generate. For each 'Code' section below you are required to write **3 unit tests** per prompt and submit the prompt, unit test, and output (more details in Submissions section) in the report.\n",
        "  - **NOTE #2**: A boilerplate unit test function is provided below in the setup section, feel free to modify or come up with your own as long as you include the **expected** answer and the **response** from the OpenAI API in the cell output and report.\n",
        "  - **NOTE #3**: Points will be deducted if you go over the word limit for questions with a word limit.\n",
        "  - **NOTE #4**: Have fun with this homework! It's meant to be more exploratory and for you to gain exposure to current LLM trends.\n",
        "\n",
        "- **Deliverables:** This assignment has several deliverables:\n",
        "  - Code (this notebook) *(Manually Graded)*\n",
        "    - Section 1: 1.1, 1.2, 1.3, 1.4, 1.5, 1.6\n",
        "    - Section 3: 3.1, 3.2\n",
        "    - Section 4: 4.1, 4.2\n",
        "    - Section 5: 5.1, 5.2\n",
        "  - Write Up (report.pdf) *(Manually Graded)*\n",
        "    - All Sections\n",
        "\n",
        "\n",
        "## Recommended Readings\n",
        "- [Language Models are Few-Shot Learners](https://arxiv.org/pdf/2005.14165.pdf). Tom B. Brown, Benjamin Mann, Nick Ryder, Melanie Subbiah, Jared Kaplan, ...others. ArXiV 2020.\n",
        "- [Pre-train, Prompt, and Predict: A Systematic Survey of Prompting Methods in Natural Language Processing](https://arxiv.org/pdf/2107.13586.pdf). Pengfei Liu, Weizhe Yuan, Jinlan Fu, Zhengbao Jiang, Hiroaki Hayashi, Graham Neubig. ACM Computing Surveys 2021.\n",
        "- [Best practices for prompt engineering with OpenAI API](https://help.openai.com/en/articles/6654000-best-practices-for-prompt-engineering-with-openai-api). Jessica Shieh. OpenAI 2023.\n",
        "- [Training language models to follow instructions with human feedback](https://arxiv.org/pdf/2203.02155.pdf). Long Ouyang, Jeff Wu, Xu Jiang, Diogo Almeida, Carroll L. Wainwright, ...others. ArXiV 2020.\n",
        "- [Chain-of-Thought Prompting Elicits Reasoning in Large Language Models](https://arxiv.org/pdf/2201.11903.pdf). Jason Wei, Xuezhi Wang, Dale Schuurmans, Maarten Bosma, brian ichter, Fei Xia, Ed H. Chi, Quoc V Le, Denny Zhou. NeurIPS 2022.\n",
        "\n",
        "## To get started, **make a copy** of this colab notebook into your google drive!"
      ]
    },
    {
      "cell_type": "markdown",
      "metadata": {
        "id": "CHrdyiQdBt2K"
      },
      "source": [
        "## Setup: Dataset / Packages\n",
        "- **Run the following cells and enter your OpenAI API Key!**\n",
        "- The models we are using are not the best models OpenAI has to offer (for cost reasons), therefore, the output you get from prompting ChatGPT for example may not match the output from the API.\n",
        "- We will be using `babbage-002` and `gpt-3.5-turbo-instruct` for this assignment\n",
        "  - Babbage: can understand and generate natural language but can't follow instructions\n",
        "  - GPT 3.5 Turbo Instruct: can understand and generate natural language as well as follow explicit instructions (more on this in section 4)"
      ]
    },
    {
      "cell_type": "code",
      "execution_count": null,
      "metadata": {
        "execution": {
          "iopub.execute_input": "2024-02-20T22:35:42.250958Z",
          "iopub.status.busy": "2024-02-20T22:35:42.249804Z",
          "iopub.status.idle": "2024-02-20T22:35:57.292415Z",
          "shell.execute_reply": "2024-02-20T22:35:57.290973Z",
          "shell.execute_reply.started": "2024-02-20T22:35:42.250912Z"
        },
        "id": "lNBeJLVcSusU",
        "trusted": true
      },
      "outputs": [],
      "source": [
        "%%capture\n",
        "!pip install openai datasets\n",
        "\n",
        "import openai\n",
        "from openai import OpenAI\n",
        "from time import sleep\n",
        "from datasets import load_dataset\n",
        "\n",
        "IMDB_DATASET = load_dataset(\"imdb\", split='train').shuffle(42)[0:50]\n",
        "IMDB_DATASET_X = IMDB_DATASET['text']\n",
        "IMDB_DATASET_Y = IMDB_DATASET['label']\n",
        "del IMDB_DATASET\n",
        "\n",
        "\n",
        "# TODO - Start\n",
        "OPENAI_API_KEY = \"\"\n",
        "# TODO - End\n",
        "\n",
        "cache = {}\n",
        "def run_gpt3(prompt, return_first_line = True, instruction_tuned = False):\n",
        "    # Return the response from the cache if we have already run this\n",
        "    cache_key = (prompt, return_first_line, instruction_tuned)\n",
        "    if cache_key in cache:\n",
        "        return cache[cache_key]\n",
        "    client = OpenAI(\n",
        "      api_key=OPENAI_API_KEY,\n",
        "    )\n",
        "    # Set the API Key\n",
        "\n",
        "\n",
        "    # Select the model\n",
        "    if instruction_tuned:\n",
        "        model = \"gpt-3.5-turbo-instruct\"\n",
        "    else:\n",
        "        model = \"babbage-002\"\n",
        "\n",
        "    # Send the prompt to GPT-3\n",
        "    for i in range(0,60,6):\n",
        "        try:\n",
        "            response = client.completions.create(\n",
        "                model=model,\n",
        "                prompt=prompt,\n",
        "                temperature=0,\n",
        "                max_tokens=100,\n",
        "                top_p=1,\n",
        "                frequency_penalty=0.0,\n",
        "                presence_penalty=0.0,\n",
        "            )\n",
        "            response = dict(response)['choices'][0]\n",
        "            response = dict(response)['text'].strip()\n",
        "            break\n",
        "        except Exception as e:\n",
        "            print(e)\n",
        "            sleep(i)\n",
        "\n",
        "    # Parse the response\n",
        "    if return_first_line:\n",
        "        final_response = response.split('\\n')[0]\n",
        "    else:\n",
        "        final_response = response\n",
        "\n",
        "    # Cache and return the response\n",
        "    cache[cache_key] = final_response\n",
        "    return final_response"
      ]
    },
    {
      "cell_type": "markdown",
      "metadata": {
        "id": "lWjsOg6u6nj5"
      },
      "source": [
        "## Boilerplate Unit Test"
      ]
    },
    {
      "cell_type": "code",
      "execution_count": null,
      "metadata": {
        "id": "ZJ1Q_R1t6rHw"
      },
      "outputs": [],
      "source": [
        "def run_unit_test(prompt: str, parameter: str, expected_answer: str, return_first_line=True, instruction_tuned=False):\n",
        "    parameterized_prompt = prompt.replace(\"{input}\", parameter)\n",
        "    answer = run_gpt3(parameterized_prompt, return_first_line, instruction_tuned)\n",
        "\n",
        "    print(\"Expected: \" + expected_answer)\n",
        "    print(\"Actual: \"+ answer)\n",
        "    assert expected_answer in answer"
      ]
    },
    {
      "cell_type": "markdown",
      "metadata": {
        "id": "PGlvLsC9B-gI"
      },
      "source": [
        "# Section 1: Exploring Prompting (12 points)\n",
        "**Background:** Prompting is a way to guide a language model, which is ultimately just a model that predicts the most likely next sequence of words, to complete some arbitrary task you want it to complete. We'll walk through a few examples and then you'll try creating your own prompts.\n",
        "\n",
        "A language model will \"complete\" (just like autocomplete) your prompt with what words are most likely to come next. We demonstrate this is the case by showing how GPT-3 completes movie quotes, when giving it the beginning of the quote:"
      ]
    },
    {
      "cell_type": "code",
      "execution_count": null,
      "metadata": {
        "execution": {
          "iopub.execute_input": "2024-02-20T22:04:58.255265Z",
          "iopub.status.busy": "2024-02-20T22:04:58.254702Z",
          "iopub.status.idle": "2024-02-20T22:05:01.617961Z",
          "shell.execute_reply": "2024-02-20T22:05:01.616312Z",
          "shell.execute_reply.started": "2024-02-20T22:04:58.255221Z"
        },
        "id": "YcILHclcou0L",
        "outputId": "ca694db1-da57-45a6-e33c-f3acf6ee184a",
        "trusted": true
      },
      "outputs": [],
      "source": [
        "print(run_gpt3(\"Life is like a box of chocolates,\"))\n",
        "print(run_gpt3(\"With great power,\"))\n",
        "print(run_gpt3(\"The name's Bond.\"))\n",
        "print(run_gpt3(\"Houston, we\"))\n",
        "print(run_gpt3(\"I've a feeling we're not in\"))"
      ]
    },
    {
      "cell_type": "markdown",
      "metadata": {
        "id": "RJKLr2kjatM3"
      },
      "source": [
        "Now imagine we give a prompt like this:"
      ]
    },
    {
      "cell_type": "code",
      "execution_count": null,
      "metadata": {
        "execution": {
          "iopub.execute_input": "2024-02-16T04:29:05.158874Z",
          "iopub.status.busy": "2024-02-16T04:29:05.158472Z",
          "iopub.status.idle": "2024-02-16T04:29:05.993328Z",
          "shell.execute_reply": "2024-02-16T04:29:05.991663Z",
          "shell.execute_reply.started": "2024-02-16T04:29:05.158845Z"
        },
        "id": "L-XKt2tpZzi7",
        "outputId": "032d1fa5-52ff-4c63-e5e8-2c49d6d2b0ae",
        "trusted": true
      },
      "outputs": [],
      "source": [
        "print(run_gpt3(\"Question: Who was the first president of the United States? Answer:\"))"
      ]
    },
    {
      "cell_type": "markdown",
      "metadata": {
        "id": "Q41x7bVXbLY-"
      },
      "source": [
        "By posing a question and writing \"Answer:\" at the end, we make it such that the most likely next sequence of words is the answer to the question! This is the key to large language models being able to perform arbitrary tasks, even though they are only trained to predict the next word.\n",
        "\n",
        "We can parameterize this prompt and make it reusable for different questions:"
      ]
    },
    {
      "cell_type": "code",
      "execution_count": null,
      "metadata": {
        "colab": {
          "base_uri": "https://localhost:8080/"
        },
        "execution": {
          "iopub.execute_input": "2024-02-16T04:29:10.640949Z",
          "iopub.status.busy": "2024-02-16T04:29:10.640414Z",
          "iopub.status.idle": "2024-02-16T04:29:13.183419Z",
          "shell.execute_reply": "2024-02-16T04:29:13.181885Z",
          "shell.execute_reply.started": "2024-02-16T04:29:10.640892Z"
        },
        "id": "YeHF3-OPZ601",
        "outputId": "dc75255c-b33f-4193-c256-74f8ec8cfb0e",
        "trusted": true
      },
      "outputs": [],
      "source": [
        "QA_PROMPT = \"Question: {input} Answer:\"\n",
        "print(run_gpt3(QA_PROMPT.replace(\"{input}\", \"What company did Steve Jobs found?\")))\n",
        "print(run_gpt3(QA_PROMPT.replace(\"{input}\", \"What's the movie with Tom Cruise about fighter jets?\")))\n",
        "print(run_gpt3(QA_PROMPT.replace(\"{input}\", \"Are tomatoes a fruit or a vegetable?\")))"
      ]
    },
    {
      "cell_type": "markdown",
      "metadata": {
        "id": "cWLiOfB_fB-T"
      },
      "source": [
        "Now that you've seen a few examples it's time for you to come up with a few of your own prompts! Make sure you parameterize them with `{input}` before sending the prompt to the autograder. All your prompts should be reuseable when the autograder does `.replace(\"{input}\", ...)` on them.\n",
        "\n",
        "Note: These models are not easy to control. Therefore, it's okay if your prompt does not always get the answer right or also spews extra text along with the answer (as long as the answer comes first). Test it out a few times, and if it seems like it works, then you can try it with the autograder."
      ]
    },
    {
      "cell_type": "markdown",
      "metadata": {
        "id": "JLPYzcNbJmeb"
      },
      "source": [
        "## Example Unit Test\n",
        "Below will be an example usage of the boilerplate unit test, feel free to use this format in your `report.pdf` but you are free to modify it as you see fit! As you will see, the expected output and actual output is shown in the cell output (required for submission of notebook and `report.pdf`)."
      ]
    },
    {
      "cell_type": "code",
      "execution_count": null,
      "metadata": {
        "colab": {
          "base_uri": "https://localhost:8080/"
        },
        "id": "mFhOnDOlJ51N",
        "outputId": "1d434bf2-4346-45b2-e323-96a7392ca8bf"
      },
      "outputs": [],
      "source": [
        "run_unit_test(QA_PROMPT, \"What company did Steve Jobs found?\", \"Apple\")"
      ]
    },
    {
      "cell_type": "markdown",
      "metadata": {
        "id": "TUnnuRJfbXf5"
      },
      "source": [
        "**Please include the prompt, unit tests, and output in your `report.pdf`**\n",
        "\n",
        "**Problem 1.1:** Write a prompt that returns the continent where a country is located."
      ]
    },
    {
      "cell_type": "code",
      "execution_count": null,
      "metadata": {
        "execution": {
          "iopub.status.busy": "2024-02-16T04:26:35.623065Z",
          "iopub.status.idle": "2024-02-16T04:26:35.623454Z",
          "shell.execute_reply": "2024-02-16T04:26:35.623273Z",
          "shell.execute_reply.started": "2024-02-16T04:26:35.623258Z"
        },
        "id": "hVUR92UPbSkn",
        "trusted": true
      },
      "outputs": [],
      "source": [
        "# TODO\n",
        "CONTINENT_OF_COUNTRY_PROMPT = \"\""
      ]
    },
    {
      "cell_type": "code",
      "execution_count": null,
      "metadata": {
        "colab": {
          "base_uri": "https://localhost:8080/"
        },
        "id": "24kz-a93ds24",
        "outputId": "4f8fa360-6aab-4562-801d-ee522c3157a9"
      },
      "outputs": [],
      "source": [
        "# TODO unit tests\n"
      ]
    },
    {
      "cell_type": "markdown",
      "metadata": {
        "id": "U-GAJhyvbido"
      },
      "source": [
        " **Please include the prompt, unit tests, and output in your `report.pdf`**\n",
        "\n",
        " **Problem 1.2:** Write a prompt that returns the author of a famous book."
      ]
    },
    {
      "cell_type": "code",
      "execution_count": null,
      "metadata": {
        "execution": {
          "iopub.status.busy": "2024-02-16T04:26:35.624893Z",
          "iopub.status.idle": "2024-02-16T04:26:35.625314Z",
          "shell.execute_reply": "2024-02-16T04:26:35.625139Z",
          "shell.execute_reply.started": "2024-02-16T04:26:35.625123Z"
        },
        "id": "pTANEQk9bpa_",
        "trusted": true
      },
      "outputs": [],
      "source": [
        "# TODO\n",
        "AUTHOR_OF_BOOK_PROMPT = \"\""
      ]
    },
    {
      "cell_type": "code",
      "execution_count": null,
      "metadata": {
        "colab": {
          "base_uri": "https://localhost:8080/"
        },
        "id": "leZQJRM7dvYF",
        "outputId": "62e4f216-ebda-492e-aed3-1535d90edded"
      },
      "outputs": [],
      "source": [
        "# TODO unit tests\n"
      ]
    },
    {
      "cell_type": "markdown",
      "metadata": {
        "id": "cjol744PbwIl"
      },
      "source": [
        " **Please include the prompt, unit tests, and output in your `report.pdf`**\n",
        "\n",
        " **Problem 1.3:** Write a prompt that returns an antonym of a given a word. (Hint: use `return_first_line=False` as an argument when using `run_gpt3`)"
      ]
    },
    {
      "cell_type": "code",
      "execution_count": null,
      "metadata": {
        "execution": {
          "iopub.status.busy": "2024-02-16T04:26:35.626967Z",
          "iopub.status.idle": "2024-02-16T04:26:35.627406Z",
          "shell.execute_reply": "2024-02-16T04:26:35.627209Z",
          "shell.execute_reply.started": "2024-02-16T04:26:35.627188Z"
        },
        "id": "guWIM6eLb2jA",
        "trusted": true
      },
      "outputs": [],
      "source": [
        "# TODO\n",
        "ANTONYMS_OF_WORD_PROMPT = \"\""
      ]
    },
    {
      "cell_type": "code",
      "execution_count": null,
      "metadata": {
        "colab": {
          "base_uri": "https://localhost:8080/"
        },
        "id": "cwCcFBbMdyic",
        "outputId": "dbb9baf6-c51c-4460-a1fd-0344ee1d592c"
      },
      "outputs": [],
      "source": [
        "# TODO unit tests\n"
      ]
    },
    {
      "cell_type": "markdown",
      "metadata": {
        "id": "2cuv5HzCbpzW"
      },
      "source": [
        "**Please include the prompt, unit tests, and output in your `report.pdf`**\n",
        "\n",
        "**Problem 1.4:** Write a prompt that given a molecule (\"water\" or \"hydrogen peroxide\"), returns the atomic elements that make up that molecule. (Hint: use `return_first_line=False` as an argument when using `run_gpt3`)"
      ]
    },
    {
      "cell_type": "code",
      "execution_count": null,
      "metadata": {
        "execution": {
          "iopub.status.busy": "2024-02-16T04:26:35.629481Z",
          "iopub.status.idle": "2024-02-16T04:26:35.629935Z",
          "shell.execute_reply": "2024-02-16T04:26:35.629734Z",
          "shell.execute_reply.started": "2024-02-16T04:26:35.629716Z"
        },
        "id": "eB3WOnVKbv_R",
        "trusted": true
      },
      "outputs": [],
      "source": [
        "# TODO\n",
        "ELEMENT_OF_MOLECULE_PROMPT = \"\""
      ]
    },
    {
      "cell_type": "code",
      "execution_count": null,
      "metadata": {
        "colab": {
          "base_uri": "https://localhost:8080/"
        },
        "id": "eXlL1J22d1Ro",
        "outputId": "609c666d-10dc-48ce-f567-08a8d8776ecc"
      },
      "outputs": [],
      "source": [
        "# TODO unit tests\n"
      ]
    },
    {
      "cell_type": "markdown",
      "metadata": {
        "id": "droxlfchrFiK"
      },
      "source": [
        "**Please include the prompt, unit tests, and output in your `report.pdf`**\n",
        "\n",
        "**Problem 1.5:** Write a prompt that given a famous quote (\"One small step for man, one giant leap for mankind.\", quote characters included), returns the name of the person who said the quote (quotee)."
      ]
    },
    {
      "cell_type": "code",
      "execution_count": null,
      "metadata": {
        "execution": {
          "iopub.status.busy": "2024-02-16T04:26:35.631589Z",
          "iopub.status.idle": "2024-02-16T04:26:35.632031Z",
          "shell.execute_reply": "2024-02-16T04:26:35.631823Z",
          "shell.execute_reply.started": "2024-02-16T04:26:35.631806Z"
        },
        "id": "TZxbEh14rF3e",
        "trusted": true
      },
      "outputs": [],
      "source": [
        "# TODO\n",
        "QUOTEE_OF_QUOTE_PROMPT = \"\""
      ]
    },
    {
      "cell_type": "code",
      "execution_count": null,
      "metadata": {
        "colab": {
          "base_uri": "https://localhost:8080/"
        },
        "id": "2NOYmf5Ld6Ox",
        "outputId": "74b48f3b-37e5-4249-9496-bea7452b36f0"
      },
      "outputs": [],
      "source": [
        "# TODO unit tests\n"
      ]
    },
    {
      "cell_type": "markdown",
      "metadata": {
        "id": "wVeL7QAhe4Xf"
      },
      "source": [
        "**Please include the prompt, unit tests, and output in your `report.pdf`**\n",
        "\n",
        "**Problem 1.6:** Extend the prompt from 1.5 by completing this one without question marks (\"?\") or question words (\"Who\", \"What\", etc.). You will only get credit if your prompt does not contain those. Hint: Reading, Section 2, may help you with this if you can't figure it out."
      ]
    },
    {
      "cell_type": "code",
      "execution_count": null,
      "metadata": {
        "id": "5tYTC7wsfSv1"
      },
      "outputs": [],
      "source": [
        "# TODO\n",
        "EXTENDED_QUOTEE_OF_QUOTE_PROMPT = \"\""
      ]
    },
    {
      "cell_type": "code",
      "execution_count": null,
      "metadata": {
        "colab": {
          "base_uri": "https://localhost:8080/"
        },
        "id": "bPM5gLsXfS91",
        "outputId": "5eb4dfdb-c6ac-4ecf-d845-8c2d75ee5c30"
      },
      "outputs": [],
      "source": [
        "# TODO unit tests\n"
      ]
    },
    {
      "cell_type": "markdown",
      "metadata": {
        "id": "jpJIgznD_mw4"
      },
      "source": [
        "# Section 2: Prompt Engineering (20 points)\n",
        "\n",
        "---\n",
        "\n",
        "\n",
        "\n",
        "The prompts you have used up to this point have been fairly basic and straightforward to create. But what if you have a more difficult task and it seems like your prompt isn't working? *Prompt engineering* is the procecss of iterating on a prompt in clever ways to induce the model to produce what you want. The best way of prompt engineering systematically vs. randomly is by understanding how the underlying model was trained and what data it was trained on to best prompt the model.\n",
        "\n",
        "Imagine we want the model to generate a quote in Donald Trump's style of talking about a certain topic:"
      ]
    },
    {
      "cell_type": "code",
      "execution_count": null,
      "metadata": {
        "colab": {
          "base_uri": "https://localhost:8080/"
        },
        "execution": {
          "iopub.status.busy": "2024-02-16T04:26:35.633570Z",
          "iopub.status.idle": "2024-02-16T04:26:35.634439Z",
          "shell.execute_reply": "2024-02-16T04:26:35.634205Z",
          "shell.execute_reply.started": "2024-02-16T04:26:35.634176Z"
        },
        "id": "AwBHGjCc6fdu",
        "outputId": "a174a980-08cb-456c-ee52-101420e4ef95",
        "trusted": true
      },
      "outputs": [],
      "source": [
        "DONALD_TRUMP_PROMPT = \"Question: What would Donald Trump say about {input}? Answer:\"\n",
        "DONALD_TRUMP_PROMPT_ENGINEERED_1 = 'On the topic of {input}, Donald Trump was quoted as saying \"'\n",
        "DONALD_TRUMP_PROMPT_ENGINEERED_2 = 'On the topic of {input}, Donald Trump expressed optimism saying \"'\n",
        "DONALD_TRUMP_PROMPT_ENGINEERED_3 = 'On the topic of {input}, Donald Trump expressed doubt saying \"'\n",
        "\n",
        "print(run_gpt3(DONALD_TRUMP_PROMPT.replace(\"{input}\", 'the stock market'))) # Doesn't work\n",
        "print(run_gpt3(DONALD_TRUMP_PROMPT_ENGINEERED_1.replace(\"{input}\", 'the stock market'))) # Works!\n",
        "print(run_gpt3(DONALD_TRUMP_PROMPT_ENGINEERED_2.replace(\"{input}\", 'the stock market'))) # Works!\n",
        "print(run_gpt3(DONALD_TRUMP_PROMPT_ENGINEERED_3.replace(\"{input}\", 'the stock market'))) # Works!"
      ]
    },
    {
      "cell_type": "markdown",
      "metadata": {
        "id": "1PhkpaGlCVPf"
      },
      "source": [
        "The first naive prompt doesn't really work. After prompt engineering, not only do we get a much more realistic generation of his style, but we can also control whether he is talking about the topic positively or negatively.\n",
        "\n",
        "**Please respond to the following question in your `report.pdf`**\n",
        "\n",
        "* **Problem 2.1:** Why did the `DONALD_TRUMP_PROMPT_ENGINEERED_1` prompt work much better than the `DONALD_TRUMP_PROMPT` prompt? (Word Limit: 100 words)"
      ]
    },
    {
      "cell_type": "markdown",
      "metadata": {
        "id": "aEkQ_gUOTPOT"
      },
      "source": [
        "A prompt that is well-engineered can effectively solve difficult NLP tasks that previously were solved by fine-tuning models. In lecture, we showed some examples of these.\n",
        "\n",
        "**Problem 2.2:** Write a prompt that will solve the [sentiment classification task](https://en.wikipedia.org/wiki/Sentiment_analysis), and classify [movie reviews](https://ai.stanford.edu/~amaas/data/sentiment/) as *positive* or *negative*. `IMDB_DATASET_X` and `IMDB_DATASET_Y` contain 50 reviews and sentiment labels (1 = positive, 0 = negative). Get as high of an accuracy as you can on these. Place your `MOVIE_SENTIMENT` prompt and `POSITIVE_VEBALIZERS` and `NEGATIVE_VERBALIZERS` in `report.pdf` for manual grading. Along with your `correct` (out of 50) score.\n",
        "\n",
        "*Warning:* Be careful not to exhaust your free OpenAI credits while testing, you can check [on this page here](https://platform.openai.com/account/usage). To avoid exhausting your credits quickly, test your code on a few examples from the IMDB dataset first, and then scale up to the full 50."
      ]
    },
    {
      "cell_type": "code",
      "execution_count": null,
      "metadata": {
        "execution": {
          "iopub.status.busy": "2024-02-16T04:26:35.635600Z",
          "iopub.status.idle": "2024-02-16T04:26:35.636048Z",
          "shell.execute_reply": "2024-02-16T04:26:35.635825Z",
          "shell.execute_reply.started": "2024-02-16T04:26:35.635808Z"
        },
        "id": "FivGbeAmVOK7",
        "trusted": true
      },
      "outputs": [],
      "source": [
        "# TODO\n",
        "MOVIE_SENTIMENT_PROMPT = \"\"\n",
        "\n",
        "POSITIVE_VERBALIZERS = [\n",
        "    \"good\",\n",
        "    # TODO - Add other positive verbalizers ...\n",
        "]\n",
        "NEGATIVE_VERBALIZERS = [\n",
        "    \"bad\",\n",
        "    # TODO - Add other negative verbalizers ...\n",
        "]\n",
        "\n",
        "def map_to_sentiment_label(gpt3_output):\n",
        "    for v in POSITIVE_VERBALIZERS:\n",
        "        if v.lower() in gpt3_output[:20].lower():\n",
        "            return 1\n",
        "    for v in NEGATIVE_VERBALIZERS:\n",
        "        if v.lower() in gpt3_output[:20].lower():\n",
        "            return 0\n",
        "    return None\n",
        "\n",
        "correct = 0\n",
        "for review, label in zip(IMDB_DATASET_X, IMDB_DATASET_Y):\n",
        "    gpt3_output = run_gpt3(MOVIE_SENTIMENT_PROMPT.replace(\"{input}\", review))\n",
        "    prediction = map_to_sentiment_label(gpt3_output)\n",
        "    if prediction == label:\n",
        "        correct += 1\n",
        "    print(f\"Prediction: {prediction}, Label: {label}\")\n",
        "print(f\"Correct: {correct}/50\")"
      ]
    },
    {
      "cell_type": "markdown",
      "metadata": {
        "id": "gsi2i4y64kvP"
      },
      "source": [
        "# Section 3: Few-Shot Prompting (20 points)\n",
        "\n",
        "The prompts you have seen up until this point are zero-shot prompts, in that we are asking the model to complete a task without any examples. By providing some examples in the prompt, the model becomes significantly more capable. We'll show an example.\n",
        "\n",
        "Consider the task of figuring out a more complex version of a word:"
      ]
    },
    {
      "cell_type": "code",
      "execution_count": null,
      "metadata": {
        "colab": {
          "base_uri": "https://localhost:8080/"
        },
        "execution": {
          "iopub.status.busy": "2024-02-16T04:26:35.637584Z",
          "iopub.status.idle": "2024-02-16T04:26:35.638001Z",
          "shell.execute_reply": "2024-02-16T04:26:35.637790Z",
          "shell.execute_reply.started": "2024-02-16T04:26:35.637774Z"
        },
        "id": "RZs-_4-S_vww",
        "outputId": "ab20d756-bcf7-4f1e-e53d-ab9455371377",
        "trusted": true
      },
      "outputs": [],
      "source": [
        "ZERO_SHOT_COMPLEX_PROMPT = \"Question: What is a more complex word for {input}? Answer:\"\n",
        "FEW_SHOT_COMPLEX_PROMPT = \"angry : aggrieved\\nsad : depressed\\n{input} :\"\n",
        "\n",
        "print(\"Zero shot: \", run_gpt3(ZERO_SHOT_COMPLEX_PROMPT.replace(\"{input}\", 'confused'))) # Doesn't work\n",
        "print(\"Few shot: \", run_gpt3(FEW_SHOT_COMPLEX_PROMPT.replace(\"{input}\", 'confused'))) # Works!"
      ]
    },
    {
      "cell_type": "markdown",
      "metadata": {
        "id": "yotgY6JWHCRL"
      },
      "source": [
        "The first zero-shot prompt where we have no example doesn't work at all, where as when we give 2 examples in the few-shot prompt (2-shot prompt), it works.\n",
        "\n",
        "Now that you've seen an example of few-shot prompting, it's your turn to try it.\n",
        "\n",
        "**Please include the prompt, unit tests, and output in your `report.pdf`**\n",
        "\n",
        "**Problem 3.1:** Write a few-shot prompt that translates a Spanish word to an English word."
      ]
    },
    {
      "cell_type": "code",
      "execution_count": null,
      "metadata": {
        "execution": {
          "iopub.status.busy": "2024-02-16T04:26:35.639406Z",
          "iopub.status.idle": "2024-02-16T04:26:35.639775Z",
          "shell.execute_reply": "2024-02-16T04:26:35.639609Z",
          "shell.execute_reply.started": "2024-02-16T04:26:35.639593Z"
        },
        "id": "lEf2PB9WHSus",
        "trusted": true
      },
      "outputs": [],
      "source": [
        "# TODO\n",
        "SPANISH_TO_ENGLISH_PROMPT = \"\""
      ]
    },
    {
      "cell_type": "code",
      "execution_count": null,
      "metadata": {
        "colab": {
          "base_uri": "https://localhost:8080/"
        },
        "id": "ZpIXJVfAeBDk",
        "outputId": "e1f206ab-305a-4aef-ed9f-679da9f1de08"
      },
      "outputs": [],
      "source": [
        "# TODO unit tests\n"
      ]
    },
    {
      "cell_type": "markdown",
      "metadata": {
        "id": "afOSMXJ7U-ty"
      },
      "source": [
        "**Please include the prompt, unit tests, and output in your `report.pdf`**\n",
        "\n",
        "**Problem 3.2:** Write a few-shot prompt that converts an input into a [Jeopardy! style answer](https://en.wikipedia.org/wiki/Jeopardy!#:~:text=Rather%20than%20being%20given%20questions,the%20form%20of%20a%20question.) (The Great Lakes -> \"What are the Great Lakes?\" or Taylor Swift -> \"Who is Taylor Swift?\")"
      ]
    },
    {
      "cell_type": "code",
      "execution_count": null,
      "metadata": {
        "execution": {
          "iopub.status.busy": "2024-02-16T04:26:35.640875Z",
          "iopub.status.idle": "2024-02-16T04:26:35.641292Z",
          "shell.execute_reply": "2024-02-16T04:26:35.641125Z",
          "shell.execute_reply.started": "2024-02-16T04:26:35.641108Z"
        },
        "id": "iPxTwMR8V92B",
        "trusted": true
      },
      "outputs": [],
      "source": [
        "# TODO\n",
        "TO_JEOPARDY_ANSWER_PROMPT = \"\""
      ]
    },
    {
      "cell_type": "code",
      "execution_count": null,
      "metadata": {
        "colab": {
          "base_uri": "https://localhost:8080/"
        },
        "id": "rjgD-oogeCmv",
        "outputId": "d1be1305-8d52-4e3d-ed0c-4d77e4dee9fb"
      },
      "outputs": [],
      "source": [
        "# TODO unit tests\n"
      ]
    },
    {
      "cell_type": "markdown",
      "metadata": {
        "id": "ZykJv03wYrb8"
      },
      "source": [
        "**Please respond to the following question in your `report.pdf`**\n",
        "\n",
        "**Problem 3.3:** Come up with 3 more arbitrary tasks, where a zero-shot prompt might not suffice, and a few-shot prompt would be required. Provide a short write up describing what your tasks are. Provide examples of a zero-prompt not working for it. Then, show us your few-shot prompt and some results. Be creative and try to pick 3 tasks that are somewhat distinct from each other!"
      ]
    },
    {
      "cell_type": "markdown",
      "metadata": {
        "id": "xfGRGgLCc38j"
      },
      "source": [
        "# Section 4: Prompting Instruction-Tuned Models (18 points)\n",
        "\n",
        "Large language models can be *instruction-tuned*, fine-tuned with examples of instructions and responses to those instructions, to make them easier to prompt and friendlier to humans. Instruction-tuned models can more easily be given natural language instructions describing a task you want them to complete. This makes it so that they are more performant without requiring as much prompt engineering and makes them more likely to succeed with just zero-shot prompting. The version of GPT-3 we were working with in previous exercises was not instruction-tuned, we now will use instruction-tuned models from here on out:"
      ]
    },
    {
      "cell_type": "code",
      "execution_count": null,
      "metadata": {
        "colab": {
          "base_uri": "https://localhost:8080/"
        },
        "execution": {
          "iopub.execute_input": "2024-02-20T22:08:43.710662Z",
          "iopub.status.busy": "2024-02-20T22:08:43.710166Z",
          "iopub.status.idle": "2024-02-20T22:08:44.838337Z",
          "shell.execute_reply": "2024-02-20T22:08:44.837174Z",
          "shell.execute_reply.started": "2024-02-20T22:08:43.710624Z"
        },
        "id": "HC0Rc41Hdikw",
        "outputId": "278032a8-6ef4-44ec-b94d-04d046adb5ed",
        "trusted": true
      },
      "outputs": [],
      "source": [
        "TO_JEOPARDY_INSTRUCTION_PROMPT = \"What would a Jeopardy! contestant say if the answer was \\\"{input}\\\"?\"\n",
        "\n",
        "print(run_gpt3(TO_JEOPARDY_INSTRUCTION_PROMPT.replace(\"{input}\", 'Taylor Swift'))) # Doesn't work on non-instruction tuned model\n",
        "print(run_gpt3(TO_JEOPARDY_INSTRUCTION_PROMPT.replace(\"{input}\", 'Taylor Swift'), instruction_tuned=True)) # Works and is simpler!"
      ]
    },
    {
      "cell_type": "markdown",
      "metadata": {
        "id": "zl-njdLbg6Hr"
      },
      "source": [
        "As you can see, these instruction-tuned models make it much simpler to complete complex tasks since you can \"talk\" to them naturally. We'll now ask you to try.\n",
        "\n",
        "**Please include the prompt, unit tests, and output in your `report.pdf`**\n",
        "\n",
        "**Problem 4.1:** Write a prompt that returns the syllables of a word (music -> mu-sic)."
      ]
    },
    {
      "cell_type": "code",
      "execution_count": null,
      "metadata": {
        "execution": {
          "iopub.status.busy": "2024-02-16T04:26:35.648126Z",
          "iopub.status.idle": "2024-02-16T04:26:35.648597Z",
          "shell.execute_reply": "2024-02-16T04:26:35.648395Z",
          "shell.execute_reply.started": "2024-02-16T04:26:35.648377Z"
        },
        "id": "CoU6zfxps06_",
        "trusted": true
      },
      "outputs": [],
      "source": [
        "# TODO\n",
        "WORD_TO_SYLLABLES_PROMPT = \"\""
      ]
    },
    {
      "cell_type": "code",
      "execution_count": null,
      "metadata": {
        "colab": {
          "base_uri": "https://localhost:8080/"
        },
        "id": "3CLaWQjFeE1O",
        "outputId": "5d93b200-c56e-4f46-b406-5777ac0fde52"
      },
      "outputs": [],
      "source": [
        "# TODO unit tests\n"
      ]
    },
    {
      "cell_type": "markdown",
      "metadata": {
        "id": "8iBVRD-vfbCf"
      },
      "source": [
        "**Please include the prompt, unit tests, and output in your `report.pdf`**\n",
        "\n",
        "**Problem 4.2:** Modify the word to syllables prompt such that the model only returns the syllables and nothing else. You will only get credit if your model only returns returns the syllables and nothing else."
      ]
    },
    {
      "cell_type": "code",
      "execution_count": null,
      "metadata": {
        "id": "Em04U_nofi5Z"
      },
      "outputs": [],
      "source": [
        "# TODO\n",
        "MODIFIED_WORD_TO_SYLLABLES_PROMPT = \"\""
      ]
    },
    {
      "cell_type": "code",
      "execution_count": null,
      "metadata": {
        "colab": {
          "base_uri": "https://localhost:8080/"
        },
        "id": "9vHGNYVcfjH_",
        "outputId": "b90ca01c-4e50-49c1-e2b5-13e8da0db1f3"
      },
      "outputs": [],
      "source": [
        "# TODO unit tests\n"
      ]
    },
    {
      "cell_type": "markdown",
      "metadata": {
        "id": "SSvhJyZUqNyz"
      },
      "source": [
        "**Please respond to the following question in your `report.pdf`**\n",
        "\n",
        "**Problem 4.3:** Come up with 3 more arbitrary tasks, where the non-instruction-tuned model might not suffice, and an instruction-tuned model would be required. Provide a short write up describing what your tasks are. Provide examples of a prompt not working on a non-instruction-tuned model. Then, show us your instruction prompt on an instruction-tuned model and some results. Be creative and try to pick 3 tasks that are somewhat distinct from each other!"
      ]
    },
    {
      "cell_type": "markdown",
      "metadata": {
        "id": "bVbLbnc3rbbx"
      },
      "source": [
        "# Section 5: Chain-of-Thought Reasoning (30 points)\n",
        "\n",
        "One recent method to prompt large language models is Chain-of-Thought Prompting. This is similar to few-shot prompting, except you not only provide a few examples, but you also provide an explanation with a reasoning chain to the model. Providing this reasoning chain as been shown to improve performance on a wide variety of tasks.\n",
        "\n",
        "We demonstrate on a task that concatenates the last letter of names of length 2:"
      ]
    },
    {
      "cell_type": "code",
      "execution_count": null,
      "metadata": {
        "colab": {
          "base_uri": "https://localhost:8080/"
        },
        "id": "9HL_emeIHJjt",
        "outputId": "e16e3d45-7e3c-4015-8a56-e575f89536cd"
      },
      "outputs": [],
      "source": [
        "FEW_SHOT_CONCATENATION_PROMPT = '''\n",
        "Take the last letters of the words 'Alvin Bao' and concatenate them -> no,\n",
        "Take the last letters of the words 'Otto Bot' and concatenate them -> ot,\n",
        "Take the last letters of the words 'Behrang Mohit' and concatenate them -> gt,\n",
        "{input}\n",
        "'''\n",
        "COT_CONCATENATION_PROMPT = '''\n",
        "Take the last letters of the words 'Alvin Bao' and concatenate them\n",
        "the last letter of 'Alvin' is 'n' the last letter of 'Bao' is o -> no,\n",
        "Take the last letters of the words 'Otto Bot' and concatenate them\n",
        "the last letter of 'Otto' is 'o' the last letter of 'Bot' is t -> ot,\n",
        "Take the last letters of the words 'Behrang Mohit' and concatenate them\n",
        "the last letter of 'Behrang' is 'g' and the last letter of 'Mohit' is 't' -> gt,\n",
        "{input}\n",
        "'''\n",
        "\n",
        "print(run_gpt3(FEW_SHOT_CONCATENATION_PROMPT.replace(\"{input}\", \"Take the last letters of the words 'Stephen Curry' and concatenate them\"), instruction_tuned=True)) # Doesn't work without CoT prompting\n",
        "print(run_gpt3(COT_CONCATENATION_PROMPT.replace(\"{input}\", \"Take the last letters of the words 'Stephen Curry' and concatenate them\"), instruction_tuned=True)) # Works!"
      ]
    },
    {
      "cell_type": "markdown",
      "metadata": {
        "id": "Vwy3ToB2wAG9"
      },
      "source": [
        "Next, we create a dataset with 50 examples:"
      ]
    },
    {
      "cell_type": "code",
      "execution_count": null,
      "metadata": {
        "id": "5XtfydODn12U"
      },
      "outputs": [],
      "source": [
        "import random\n",
        "import pandas as pd\n",
        "\n",
        "# Read first name and last name csvs into dataframes\n",
        "first_name_df = pd.read_csv(\"https://raw.githubusercontent.com/Ninble/name-census-top-100/main/first-name-database.csv\", sep=';')\n",
        "last_name_df = pd.read_csv(\"https://raw.githubusercontent.com/Ninble/name-census-top-100/main/surname-database.csv\", sep=';')\n",
        "\n",
        "# Filter only US names\n",
        "first_name_df = first_name_df[first_name_df[\"Country code\"] == \"US\"]\n",
        "last_name_df = last_name_df[last_name_df[\"Country code\"] == \"US\"]\n",
        "\n",
        "# Convert Name column into lists\n",
        "first_names = first_name_df[\"Name\"].tolist()\n",
        "last_names = last_name_df[\"Name\"].tolist()\n",
        "\n",
        "def create_concatenation_dataset(n_examples, seed = 42):\n",
        "    random.seed(seed)\n",
        "\n",
        "    X = []\n",
        "    y = []\n",
        "    for i in range(n_examples):\n",
        "        first_name = random.choice(first_names)\n",
        "        last_name = random.choice(last_names)\n",
        "        full_name = first_name + \" \" + last_name\n",
        "        X.append(f\"Take the last letters of the words '{full_name}' and concatenate them\")\n",
        "        y.append(first_name[-1] + last_name[-1])\n",
        "    return X, y\n",
        "\n",
        "def parse_answer(model_output):\n",
        "    '''Parses the output of the model to get the final answer.'''\n",
        "    try:\n",
        "        return model_output[-2:]\n",
        "    except:\n",
        "        return None\n",
        "\n",
        "concatenation_X, concatenation_y = create_concatenation_dataset(50)\n"
      ]
    },
    {
      "cell_type": "markdown",
      "metadata": {
        "id": "VHqtOpHp6Vjq"
      },
      "source": [
        "**Please respond to the following question in your `report.pdf`**\n",
        "\n",
        "**Problem 5.1:** Your job is to investigate how few-shot Chain-of-Thought prompting performs vs. regular few-shot prompting over the entire concatenation dataset and grade how many out of 20 are correct. Perform this experiment 5 times each with a different number of regular few-shot examples (1 example, 2 examples, 4 examples, 8 examples, 16 examples) and 5 times again each with a different number of Chain-of-Thought few-shot examples (1 CoT example, 2 CoT examples, 4 CoT examples, 8 CoT examples, 16 CoT examples).\n",
        "\n",
        "Create a table or plot of (N examples) vs. (% questions correct by the model with a few-shot prompt with N examples) vs. (% questions correct by the model with a CoT prompt with N examples). Report this table or plot in `report.pdf` with a short write-up about your observations. Keep the code used to build your table or plot in your notebook for inspection during grading.\n",
        "\n",
        "*Note #1:* Make sure you use `instruction_tuned = True`.\n",
        "\n",
        "*Note #2:* For the purposes of grading, you are **not required** to show the 200 (5 few-shot * 20 examples + 5 COT * 20 examples) examples in the cell output. However, please include the function you wrote to perform this evaluation in `report.pdf`.\n",
        "\n",
        "*Hint:* You might find the `parse_answer` function helpful when grading how many of the model's outputs are correct or not.\n",
        "\n",
        "*Warning:* Be careful not to exhaust your free OpenAI credits while testing, you can check [on this page here](https://platform.openai.com/account/usage). To avoid exhausting your credits quickly, test your code on a smaller concatenation dataset first, and then scale up to the full one to report your results."
      ]
    },
    {
      "cell_type": "code",
      "execution_count": null,
      "metadata": {
        "execution": {
          "iopub.execute_input": "2024-02-20T22:50:19.011233Z",
          "iopub.status.busy": "2024-02-20T22:50:19.010763Z",
          "iopub.status.idle": "2024-02-20T22:50:40.831481Z",
          "shell.execute_reply": "2024-02-20T22:50:40.829819Z",
          "shell.execute_reply.started": "2024-02-20T22:50:19.011195Z"
        },
        "id": "z34fPG7g7yVM",
        "trusted": true
      },
      "outputs": [],
      "source": [
        "# TODO - Solve Problem 5.1 here\n"
      ]
    },
    {
      "cell_type": "markdown",
      "metadata": {
        "id": "uD19h2AQxPgN"
      },
      "source": [
        "**Please respond to the following question in your `report.pdf`**\n",
        "\n",
        "**Problem 5.2 (EXTRA CREDIT):** Your job is to investigate whether or not COT can extend to lengths of words not seen in the chain-of-thought examples.\n",
        "\n",
        "- Step 1: Try running the original concatenation prompt on a name or phrase with 3 words e.g. 'James Earl Jones' (try running it on at least 4-5 names or phrases). Does it work?\n",
        "- Step 2: Go back and modify the prompt to get it to work\n",
        "- Step 3: Now try running this on a name or phrase with 5 words (try running it on at least 4-5 names or phrases). Does it work? If not, how would you extend the prompt to get it to work?\n",
        "\n",
        "Should you decide to do this exploration, in your report, please include what prompts you tried, at least 3 examples of names you tried the prompts on (3 word and 5 word), and an explanation of why you tried what you tried\n",
        "\n",
        "Feel free to reference [Chain-of-Thought Prompting Elicits Reasoning in Large Language Models](https://arxiv.org/pdf/2201.11903.pdf), especially section 5 on Symbolic Reasoning."
      ]
    },
    {
      "cell_type": "code",
      "execution_count": null,
      "metadata": {
        "id": "y2lfoY_Oxa5H"
      },
      "outputs": [],
      "source": [
        "# TODO (EXTRA CREDIT) Modify the following prompt\n",
        "MODIFIED_THREE_WORD_COT_CONCATENATION_PROMPT = ''''''"
      ]
    },
    {
      "cell_type": "code",
      "execution_count": null,
      "metadata": {
        "colab": {
          "base_uri": "https://localhost:8080/"
        },
        "id": "oGtV7hBY-O8s",
        "outputId": "69fdc86f-8c67-4a89-a57a-562e32965d8e"
      },
      "outputs": [],
      "source": [
        "# TODO unit tests\n"
      ]
    },
    {
      "cell_type": "code",
      "execution_count": null,
      "metadata": {
        "id": "03iZ8waW-NQB"
      },
      "outputs": [],
      "source": [
        "# TODO (EXTRA CREDIT) Modify the following prompt\n",
        "MODIFIED_FIVE_WORD_COT_CONCATENATION_PROMPT = ''''''"
      ]
    },
    {
      "cell_type": "code",
      "execution_count": null,
      "metadata": {
        "colab": {
          "base_uri": "https://localhost:8080/"
        },
        "id": "lGStmZW_-hiA",
        "outputId": "c4ec55cf-fb9d-40c6-8a4e-37cc8a02bee5"
      },
      "outputs": [],
      "source": [
        "# TODO unit tests\n"
      ]
    },
    {
      "cell_type": "markdown",
      "metadata": {
        "id": "2hoP1RcwMqNF"
      },
      "source": [
        "# Submissions"
      ]
    },
    {
      "cell_type": "markdown",
      "metadata": {
        "id": "-DfjnoJXNfCZ"
      },
      "source": [
        "## Submission Checklist (check if you missed anything!)\n",
        "We will look for the following:\n",
        "- Section 1:\n",
        "  - 1.1: Prompt, 3 unit tests, and output included in `report.pdf` and notebook\n",
        "  - 1.2: Prompt, 3 unit tests, and output included in `report.pdf` and notebook\n",
        "  - 1.3: Prompt, 3 unit tests, and output included in `report.pdf` and notebook\n",
        "  - 1.4: Prompt, 3 unit tests, and output included in `report.pdf` and notebook\n",
        "  - 1.5: Prompt, 3 unit tests, and output included in `report.pdf` and notebook\n",
        "  - 1.6: Prompt, 3 unit tests, and output included in `report.pdf` and notebook\n",
        "- Section 2:\n",
        "  - 2.1: Written response in `report.pdf` (Word Limit: 100 words)\n",
        "  - 2.2: Written response in `report.pdf` and verification of prompt, verbalizers, and number correct\n",
        "- Section 3:\n",
        "  - 3.1: Prompt, 3 unit tests, and output included in `report.pdf` and notebook\n",
        "  - 3.2: Prompt, 3 unit tests, and output included in `report.pdf` and notebook\n",
        "  - 3.3: Written response in `report.pdf`\n",
        "- Section 4:\n",
        "  - 4.1: Prompt, 3 unit tests, and output included in `report.pdf` and notebook\n",
        "  - 4.2: Prompt, 3 unit tests, and output included in `report.pdf` and notebook\n",
        "  - 4.3: Written response in `report.pdf`\n",
        "- Section 5:\n",
        "  - 5.1: Written response (table/plot, short-write up) in `report.pdf` and verification of prompt and evaluation function (examples from cell output not required)\n",
        "  - 5.2: **OPTIONAL**: Written response in `report.pdf` and verification of 2 prompts and 6 unit tests\n",
        "\n",
        "For the purpose of submission, feel free to complete the entire assignment in the notebook and then convert it into a pdf for the report. However, this is not required as long as all of the deliverables above are satisfied.\n",
        "\n",
        "**REMINDER**: Include the **expected** answer and the **response** from the OpenAI API in the cell output and `report.pdf` **for all unit tests**."
      ]
    },
    {
      "cell_type": "markdown",
      "metadata": {
        "id": "qx1oLs9-OFjE"
      },
      "source": [
        "## GradeScope File Submission\n",
        "\n",
        "**MAKE SURE TO REMOVE YOUR API KEY FROM YOUR SUBMISSION, YOU WILL LOSE POINTS IF YOUR API KEY IS PRESENT IN THE NOTEBOOK SUBMISSION**\n",
        "\n",
        "Here are the deliverables you need to submit to GradeScope:\n",
        "- Write-up (`report.pdf`):\n",
        "    - All Sections\n",
        "    - **IMPORTANT**: You will be assigning each page of the report to a question so please make sure you have the correct page(s) assigned to each question, **you will lose 10 points on this assignment if your answers are not assigned correctly**.\n",
        "- Code:\n",
        "    - This notebook: make sure it is named `HW4.ipynb` before submitting. You can download the notebook and py file by going to the top-left corner of this webpage, `File -> Download -> Download .ipynb`"
      ]
    }
  ],
  "metadata": {
    "colab": {
      "provenance": []
    },
    "kaggle": {
      "accelerator": "none",
      "dataSources": [],
      "dockerImageVersionId": 30646,
      "isGpuEnabled": false,
      "isInternetEnabled": true,
      "language": "python",
      "sourceType": "notebook"
    },
    "kernelspec": {
      "display_name": "Python 3",
      "language": "python",
      "name": "python3"
    },
    "language_info": {
      "codemirror_mode": {
        "name": "ipython",
        "version": 3
      },
      "file_extension": ".py",
      "mimetype": "text/x-python",
      "name": "python",
      "nbconvert_exporter": "python",
      "pygments_lexer": "ipython3",
      "version": "3.10.13"
    }
  },
  "nbformat": 4,
  "nbformat_minor": 0
}
